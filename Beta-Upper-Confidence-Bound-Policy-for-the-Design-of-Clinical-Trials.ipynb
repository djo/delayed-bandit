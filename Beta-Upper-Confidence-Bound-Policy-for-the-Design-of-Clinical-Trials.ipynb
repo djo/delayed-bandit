{
 "cells": [
  {
   "cell_type": "markdown",
   "id": "5028b40e",
   "metadata": {},
   "source": [
    "# Numerical experiments\n",
    "\n",
    "Dataset: [International Stroke Trial database (version 2)](https://datashare.ed.ac.uk/handle/10283/124)"
   ]
  },
  {
   "cell_type": "code",
   "execution_count": 1,
   "id": "77ac6f0d",
   "metadata": {
    "ExecuteTime": {
     "end_time": "2023-04-12T10:09:49.581182Z",
     "start_time": "2023-04-12T10:09:46.379368Z"
    }
   },
   "outputs": [],
   "source": [
    "import matplotlib.pyplot as plt\n",
    "from sklearn.datasets import make_blobs\n",
    "from sklearn.cluster import KMeans\n",
    "from sklearn.metrics import accuracy_score\n",
    "import numpy as np\n",
    "from sklearn.metrics.cluster import adjusted_rand_score\n",
    "from collections import Counter\n",
    "from sklearn.metrics import pairwise_distances_argmin\n",
    "from sklearn.metrics import pairwise_distances\n",
    "import pandas as pd\n",
    "from typing import List, Tuple, Protocol, Callable\n",
    "import queue\n",
    "from dataclasses import dataclass\n",
    "import scipy\n",
    "from scipy.special import digamma\n",
    "from scipy.special import gamma\n",
    "from collections import defaultdict\n",
    "import pprint\n",
    "import os\n",
    "import pickle\n",
    "import csv\n",
    "from dataclasses import dataclass\n",
    "import math\n",
    "from pprint import pprint"
   ]
  },
  {
   "cell_type": "markdown",
   "id": "fc874022",
   "metadata": {},
   "source": [
    "## Data of interest\n",
    "\n",
    "* tagert group: eldery (age > 65)\n",
    "* control: no aspirin\n",
    "* treatment: aspirin\n",
    "* study: short-term (14 days)"
   ]
  },
  {
   "cell_type": "code",
   "execution_count": 3,
   "id": "929a8cf4",
   "metadata": {
    "ExecuteTime": {
     "end_time": "2023-04-12T10:09:49.901203Z",
     "start_time": "2023-04-12T10:09:49.593457Z"
    }
   },
   "outputs": [
    {
     "data": {
      "text/html": [
       "<div>\n",
       "<style scoped>\n",
       "    .dataframe tbody tr th:only-of-type {\n",
       "        vertical-align: middle;\n",
       "    }\n",
       "\n",
       "    .dataframe tbody tr th {\n",
       "        vertical-align: top;\n",
       "    }\n",
       "\n",
       "    .dataframe thead th {\n",
       "        text-align: right;\n",
       "    }\n",
       "</style>\n",
       "<table border=\"1\" class=\"dataframe\">\n",
       "  <thead>\n",
       "    <tr style=\"text-align: right;\">\n",
       "      <th></th>\n",
       "      <th>HOSPNUM</th>\n",
       "      <th>RDELAY</th>\n",
       "      <th>RCONSC</th>\n",
       "      <th>SEX</th>\n",
       "      <th>AGE</th>\n",
       "      <th>RSLEEP</th>\n",
       "      <th>RATRIAL</th>\n",
       "      <th>RCT</th>\n",
       "      <th>RVISINF</th>\n",
       "      <th>RHEP24</th>\n",
       "      <th>...</th>\n",
       "      <th>DEAD8</th>\n",
       "      <th>H14</th>\n",
       "      <th>ISC14</th>\n",
       "      <th>NK14</th>\n",
       "      <th>STRK14</th>\n",
       "      <th>HTI14</th>\n",
       "      <th>PE14</th>\n",
       "      <th>DVT14</th>\n",
       "      <th>TRAN14</th>\n",
       "      <th>NCB14</th>\n",
       "    </tr>\n",
       "  </thead>\n",
       "  <tbody>\n",
       "    <tr>\n",
       "      <th>0</th>\n",
       "      <td>1</td>\n",
       "      <td>17</td>\n",
       "      <td>D</td>\n",
       "      <td>M</td>\n",
       "      <td>69</td>\n",
       "      <td>Y</td>\n",
       "      <td>NaN</td>\n",
       "      <td>Y</td>\n",
       "      <td>Y</td>\n",
       "      <td>NaN</td>\n",
       "      <td>...</td>\n",
       "      <td>0</td>\n",
       "      <td>0</td>\n",
       "      <td>0</td>\n",
       "      <td>0</td>\n",
       "      <td>0</td>\n",
       "      <td>0</td>\n",
       "      <td>0</td>\n",
       "      <td>0</td>\n",
       "      <td>0</td>\n",
       "      <td>0</td>\n",
       "    </tr>\n",
       "    <tr>\n",
       "      <th>1</th>\n",
       "      <td>1</td>\n",
       "      <td>10</td>\n",
       "      <td>F</td>\n",
       "      <td>M</td>\n",
       "      <td>76</td>\n",
       "      <td>Y</td>\n",
       "      <td>NaN</td>\n",
       "      <td>Y</td>\n",
       "      <td>N</td>\n",
       "      <td>NaN</td>\n",
       "      <td>...</td>\n",
       "      <td>0</td>\n",
       "      <td>0</td>\n",
       "      <td>0</td>\n",
       "      <td>0</td>\n",
       "      <td>0</td>\n",
       "      <td>0</td>\n",
       "      <td>0</td>\n",
       "      <td>0</td>\n",
       "      <td>0</td>\n",
       "      <td>0</td>\n",
       "    </tr>\n",
       "    <tr>\n",
       "      <th>2</th>\n",
       "      <td>1</td>\n",
       "      <td>43</td>\n",
       "      <td>F</td>\n",
       "      <td>F</td>\n",
       "      <td>71</td>\n",
       "      <td>N</td>\n",
       "      <td>NaN</td>\n",
       "      <td>Y</td>\n",
       "      <td>N</td>\n",
       "      <td>NaN</td>\n",
       "      <td>...</td>\n",
       "      <td>0</td>\n",
       "      <td>0</td>\n",
       "      <td>0</td>\n",
       "      <td>0</td>\n",
       "      <td>0</td>\n",
       "      <td>0</td>\n",
       "      <td>0</td>\n",
       "      <td>0</td>\n",
       "      <td>0</td>\n",
       "      <td>0</td>\n",
       "    </tr>\n",
       "    <tr>\n",
       "      <th>3</th>\n",
       "      <td>1</td>\n",
       "      <td>6</td>\n",
       "      <td>F</td>\n",
       "      <td>M</td>\n",
       "      <td>81</td>\n",
       "      <td>N</td>\n",
       "      <td>NaN</td>\n",
       "      <td>N</td>\n",
       "      <td>N</td>\n",
       "      <td>NaN</td>\n",
       "      <td>...</td>\n",
       "      <td>0</td>\n",
       "      <td>0</td>\n",
       "      <td>0</td>\n",
       "      <td>0</td>\n",
       "      <td>0</td>\n",
       "      <td>0</td>\n",
       "      <td>0</td>\n",
       "      <td>0</td>\n",
       "      <td>0</td>\n",
       "      <td>0</td>\n",
       "    </tr>\n",
       "    <tr>\n",
       "      <th>4</th>\n",
       "      <td>4</td>\n",
       "      <td>20</td>\n",
       "      <td>F</td>\n",
       "      <td>M</td>\n",
       "      <td>78</td>\n",
       "      <td>N</td>\n",
       "      <td>NaN</td>\n",
       "      <td>N</td>\n",
       "      <td>N</td>\n",
       "      <td>NaN</td>\n",
       "      <td>...</td>\n",
       "      <td>0</td>\n",
       "      <td>0</td>\n",
       "      <td>0</td>\n",
       "      <td>0</td>\n",
       "      <td>0</td>\n",
       "      <td>0</td>\n",
       "      <td>0</td>\n",
       "      <td>0</td>\n",
       "      <td>0</td>\n",
       "      <td>0</td>\n",
       "    </tr>\n",
       "  </tbody>\n",
       "</table>\n",
       "<p>5 rows × 112 columns</p>\n",
       "</div>"
      ],
      "text/plain": [
       "   HOSPNUM  RDELAY RCONSC SEX  AGE RSLEEP RATRIAL RCT RVISINF RHEP24  ...  \\\n",
       "0        1      17      D   M   69      Y     NaN   Y       Y    NaN  ...   \n",
       "1        1      10      F   M   76      Y     NaN   Y       N    NaN  ...   \n",
       "2        1      43      F   F   71      N     NaN   Y       N    NaN  ...   \n",
       "3        1       6      F   M   81      N     NaN   N       N    NaN  ...   \n",
       "4        4      20      F   M   78      N     NaN   N       N    NaN  ...   \n",
       "\n",
       "  DEAD8  H14 ISC14 NK14 STRK14 HTI14 PE14 DVT14 TRAN14 NCB14  \n",
       "0     0    0     0    0      0     0    0     0      0     0  \n",
       "1     0    0     0    0      0     0    0     0      0     0  \n",
       "2     0    0     0    0      0     0    0     0      0     0  \n",
       "3     0    0     0    0      0     0    0     0      0     0  \n",
       "4     0    0     0    0      0     0    0     0      0     0  \n",
       "\n",
       "[5 rows x 112 columns]"
      ]
     },
     "metadata": {},
     "output_type": "display_data"
    },
    {
     "data": {
      "text/plain": [
       "(19435, 112)"
      ]
     },
     "execution_count": 3,
     "metadata": {},
     "output_type": "execute_result"
    }
   ],
   "source": [
    "ist = pd.read_csv('IST_corrected.csv',encoding='unicode_escape',low_memory=False)\n",
    "display(ist.head(5))\n",
    "ist.shape"
   ]
  },
  {
   "cell_type": "code",
   "execution_count": 4,
   "id": "16ffabaf",
   "metadata": {
    "ExecuteTime": {
     "end_time": "2023-04-12T10:09:49.930838Z",
     "start_time": "2023-04-12T10:09:49.902935Z"
    }
   },
   "outputs": [],
   "source": [
    "ischaemic = ist[ist[\"DDIAGISC\"] == \"Y\"]"
   ]
  },
  {
   "cell_type": "code",
   "execution_count": 5,
   "id": "7b9402fd",
   "metadata": {
    "ExecuteTime": {
     "end_time": "2023-04-12T10:09:49.941728Z",
     "start_time": "2023-04-12T10:09:49.936455Z"
    }
   },
   "outputs": [],
   "source": [
    "# 1-Initial stroke/2-Recurrent stroke (ischaemic or unknown)/3-Recurrent stroke (haemorrhagic)/4-Pneumonia/5-Coronary heart disease/6-Pulmonary embolism/7-Other vascular or unknown/8-Non-vascular/0-unknown\n",
    "# NaN must be not dead\n",
    "def stroke_stats(df, limit = 20000):\n",
    "    def get(group):\n",
    "        total = group.shape[0]\n",
    "        alive = group[(group[\"DDEADC\"].isna())].shape[0]\n",
    "        return total, alive, alive / total\n",
    "\n",
    "    control = get(df[(df['RXASP'] == 'N')].head(limit))\n",
    "    aspirin = get(df[(df['RXASP'] == 'Y')].head(limit))\n",
    "    print(f\"control: {control}\")\n",
    "    print(f\"aspirin: {aspirin}\")\n",
    "    print(f\"improvement: {100 * (aspirin[2] - control[2])/control[2]}%\")\n",
    "    "
   ]
  },
  {
   "cell_type": "code",
   "execution_count": 8,
   "id": "c3234be2",
   "metadata": {
    "ExecuteTime": {
     "end_time": "2023-04-12T10:09:50.120447Z",
     "start_time": "2023-04-12T10:09:50.064324Z"
    }
   },
   "outputs": [
    {
     "name": "stdout",
     "output_type": "stream",
     "text": [
      "control: (6334, 5498, 0.8680138932743922)\n",
      "aspirin: (6334, 5584, 0.8815914114303758)\n",
      "improvement: 1.5642051655147378%\n"
     ]
    }
   ],
   "source": [
    "stroke_stats(ischaemic[(ischaemic[\"AGE\"] > 65)], limit = 6334)"
   ]
  },
  {
   "cell_type": "markdown",
   "id": "72e63b95",
   "metadata": {},
   "source": [
    "### Lifetime remaining days"
   ]
  },
  {
   "cell_type": "code",
   "execution_count": 9,
   "id": "f81d3616",
   "metadata": {
    "ExecuteTime": {
     "end_time": "2023-04-12T10:09:50.153125Z",
     "start_time": "2023-04-12T10:09:50.123055Z"
    }
   },
   "outputs": [
    {
     "name": "stdout",
     "output_type": "stream",
     "text": [
      "{0.0: 30,\n",
      " 1.0: 136,\n",
      " 2.0: 113,\n",
      " 3.0: 130,\n",
      " 4.0: 80,\n",
      " 5.0: 102,\n",
      " 6.0: 105,\n",
      " 7.0: 90,\n",
      " 8.0: 76,\n",
      " 9.0: 74,\n",
      " 10.0: 64,\n",
      " 11.0: 49,\n",
      " 12.0: 58,\n",
      " 13.0: 38,\n",
      " 14.0: 35,\n",
      " 15.0: 31,\n",
      " 16.0: 26,\n",
      " 17.0: 23,\n",
      " 18.0: 14,\n",
      " 19.0: 12,\n",
      " 20.0: 15,\n",
      " 21.0: 11,\n",
      " 22.0: 7,\n",
      " 23.0: 8,\n",
      " 24.0: 8,\n",
      " 25.0: 11,\n",
      " 26.0: 7,\n",
      " 27.0: 3,\n",
      " 28.0: 5,\n",
      " 29.0: 2,\n",
      " 30.0: 6,\n",
      " 31.0: 4,\n",
      " 32.0: 8,\n",
      " 33.0: 5,\n",
      " 34.0: 3,\n",
      " 35.0: 3,\n",
      " 36.0: 8,\n",
      " 37.0: 3,\n",
      " 38.0: 1,\n",
      " 39.0: 2,\n",
      " 40.0: 2,\n",
      " 41.0: 4,\n",
      " 42.0: 1,\n",
      " 43.0: 1,\n",
      " 44.0: 7,\n",
      " 45.0: 2,\n",
      " 46.0: 2,\n",
      " 47.0: 2,\n",
      " 49.0: 1,\n",
      " 50.0: 1,\n",
      " 53.0: 2,\n",
      " 55.0: 1,\n",
      " 56.0: 2,\n",
      " 57.0: 1,\n",
      " 58.0: 2,\n",
      " 62.0: 1,\n",
      " 63.0: 1,\n",
      " 66.0: 1,\n",
      " 71.0: 1,\n",
      " 73.0: 3,\n",
      " 74.0: 2,\n",
      " 85.0: 1,\n",
      " 117.0: 1,\n",
      " 121.0: 1,\n",
      " 149.0: 1}\n"
     ]
    }
   ],
   "source": [
    "df = ischaemic[(ischaemic[\"AGE\"] > 65)]\n",
    "pprint(df[(df[\"DDEADC\"].notna())][\"DDEADD\"].value_counts().to_dict())"
   ]
  },
  {
   "cell_type": "code",
   "execution_count": 10,
   "id": "ae5b54e1",
   "metadata": {
    "ExecuteTime": {
     "end_time": "2023-04-12T10:09:50.466270Z",
     "start_time": "2023-04-12T10:09:50.154903Z"
    }
   },
   "outputs": [
    {
     "data": {
      "text/plain": [
       "(array([0.09039574, 0.06803981, 0.06706781, 0.05378385, 0.04471187,\n",
       "        0.0346679 , 0.02365193, 0.02591993, 0.00842398, 0.00842398,\n",
       "        0.00485999, 0.00615598, 0.00323999, 0.00226799, 0.00323999,\n",
       "        0.00518399, 0.00356399, 0.001296  , 0.001296  , 0.00162   ,\n",
       "        0.00259199, 0.001296  , 0.000648  , 0.000648  , 0.000648  ,\n",
       "        0.000324  , 0.000972  , 0.000648  , 0.        , 0.000648  ,\n",
       "        0.        , 0.000324  , 0.        , 0.000324  , 0.00162   ,\n",
       "        0.        , 0.        , 0.        , 0.        , 0.000324  ,\n",
       "        0.        , 0.        , 0.        , 0.        , 0.        ,\n",
       "        0.        , 0.        , 0.        , 0.        , 0.        ,\n",
       "        0.        , 0.        , 0.        , 0.        , 0.000324  ,\n",
       "        0.        , 0.000324  , 0.        , 0.        , 0.        ,\n",
       "        0.        , 0.        , 0.        , 0.        , 0.        ,\n",
       "        0.        , 0.        , 0.        , 0.        , 0.000324  ]),\n",
       " array([  0.        ,   2.12857143,   4.25714286,   6.38571429,\n",
       "          8.51428571,  10.64285714,  12.77142857,  14.9       ,\n",
       "         17.02857143,  19.15714286,  21.28571429,  23.41428571,\n",
       "         25.54285714,  27.67142857,  29.8       ,  31.92857143,\n",
       "         34.05714286,  36.18571429,  38.31428571,  40.44285714,\n",
       "         42.57142857,  44.7       ,  46.82857143,  48.95714286,\n",
       "         51.08571429,  53.21428571,  55.34285714,  57.47142857,\n",
       "         59.6       ,  61.72857143,  63.85714286,  65.98571429,\n",
       "         68.11428571,  70.24285714,  72.37142857,  74.5       ,\n",
       "         76.62857143,  78.75714286,  80.88571429,  83.01428571,\n",
       "         85.14285714,  87.27142857,  89.4       ,  91.52857143,\n",
       "         93.65714286,  95.78571429,  97.91428571, 100.04285714,\n",
       "        102.17142857, 104.3       , 106.42857143, 108.55714286,\n",
       "        110.68571429, 112.81428571, 114.94285714, 117.07142857,\n",
       "        119.2       , 121.32857143, 123.45714286, 125.58571429,\n",
       "        127.71428571, 129.84285714, 131.97142857, 134.1       ,\n",
       "        136.22857143, 138.35714286, 140.48571429, 142.61428571,\n",
       "        144.74285714, 146.87142857, 149.        ]),\n",
       " <BarContainer object of 70 artists>)"
      ]
     },
     "execution_count": 10,
     "metadata": {},
     "output_type": "execute_result"
    },
    {
     "data": {
      "image/png": "[encoded data removed]",
      "text/plain": [
       "<Figure size 640x480 with 1 Axes>"
      ]
     },
     "metadata": {},
     "output_type": "display_data"
    }
   ],
   "source": [
    "remaining_days = [int(d) for d in df[(df[\"DDEADC\"].notna()) & (df[\"DDEADD\"].notna())][\"DDEADD\"]]\n",
    "plt.hist(remaining_days, bins = 70, density=True)"
   ]
  },
  {
   "cell_type": "code",
   "execution_count": 13,
   "id": "0c3f2415",
   "metadata": {
    "ExecuteTime": {
     "end_time": "2023-04-12T10:09:50.499392Z",
     "start_time": "2023-04-12T10:09:50.490369Z"
    }
   },
   "outputs": [
    {
     "data": {
      "text/plain": [
       "9"
      ]
     },
     "execution_count": 13,
     "metadata": {},
     "output_type": "execute_result"
    }
   ],
   "source": [
    "REMAINING_DAYS = remaining_days\n",
    "np.random.choice(REMAINING_DAYS)"
   ]
  },
  {
   "cell_type": "markdown",
   "id": "ccccb64f",
   "metadata": {
    "ExecuteTime": {
     "end_time": "2023-02-25T14:30:24.622758Z",
     "start_time": "2023-02-25T14:30:24.620726Z"
    }
   },
   "source": [
    "### Experiment (randomization) period"
   ]
  },
  {
   "cell_type": "code",
   "execution_count": 14,
   "id": "9732dc2c",
   "metadata": {
    "ExecuteTime": {
     "end_time": "2023-04-12T10:09:50.524724Z",
     "start_time": "2023-04-12T10:09:50.506206Z"
    }
   },
   "outputs": [],
   "source": [
    "df = ischaemic[(ischaemic[\"AGE\"] > 65)]"
   ]
  },
  {
   "cell_type": "code",
   "execution_count": 15,
   "id": "bd622b2c",
   "metadata": {
    "ExecuteTime": {
     "end_time": "2023-04-12T10:09:50.969387Z",
     "start_time": "2023-04-12T10:09:50.531506Z"
    }
   },
   "outputs": [
    {
     "name": "stdout",
     "output_type": "stream",
     "text": [
      "[('91', 'cze'),\n",
      " ..\n",
      " ('96', 'sty'),\n",
      " ('96', 'sty')]\n"
     ]
    }
   ],
   "source": [
    "dates = [(d.split('-')[1], d.split('-')[0]) for d in list(df[\"RDATE\"])]\n",
    "pprint(sorted(dates))"
   ]
  },
  {
   "cell_type": "code",
   "execution_count": 16,
   "id": "a354adec",
   "metadata": {
    "ExecuteTime": {
     "end_time": "2023-04-12T10:09:50.983377Z",
     "start_time": "2023-04-12T10:09:50.976211Z"
    }
   },
   "outputs": [
    {
     "data": {
      "text/plain": [
       "Counter({'91': 149, '92': 244, '93': 2213, '94': 3996, '95': 4360, '96': 1724})"
      ]
     },
     "execution_count": 16,
     "metadata": {},
     "output_type": "execute_result"
    }
   ],
   "source": [
    "Counter([d[0] for d in dates])"
   ]
  },
  {
   "cell_type": "code",
   "execution_count": 17,
   "id": "acbe9707",
   "metadata": {
    "ExecuteTime": {
     "end_time": "2023-04-12T10:09:50.993079Z",
     "start_time": "2023-04-12T10:09:50.989548Z"
    }
   },
   "outputs": [],
   "source": [
    "RANDOMIZATION_PERIOD_IN_DAYS = 365*3"
   ]
  },
  {
   "cell_type": "markdown",
   "id": "af3a173d",
   "metadata": {},
   "source": [
    "## Simulation\n",
    "\n",
    "Settings:\n",
    "\n",
    "1. **UCB** policy in the MAB model **with beta rewards**. Assumes an accurate and in-time estimation of reward (certainty of successful treatment).\n",
    "2. **Uniform at Random** policy in the MAB model **with Bernoulli rewards**. Similates the randomized controlled trial.\n",
    "3. **Thompson Sampling** policy in the MAB model **with Bernoulli rewards neglecting delays** (not-properly designed simulation).\n",
    "4. **Thompson Sampling** policy in the MAB model **with Bernoulli rewards adapted to the delays** with the help of [Joulani et al.’s framework](https://proceedings.mlr.press/v28/joulani13.html)."
   ]
  },
  {
   "cell_type": "code",
   "execution_count": 18,
   "id": "6a0905e1",
   "metadata": {
    "ExecuteTime": {
     "end_time": "2023-04-12T10:09:51.006264Z",
     "start_time": "2023-04-12T10:09:50.995363Z"
    }
   },
   "outputs": [
    {
     "name": "stdout",
     "output_type": "stream",
     "text": [
      "121\n",
      "154\n",
      "num_daily_patiants = 11\n"
     ]
    }
   ],
   "source": [
    "# return a delay in time steps\n",
    "def sample_14data_delay(num_patients: int, alive: bool) -> int:\n",
    "    num_daily_patiants = int(num_patients/ RANDOMIZATION_PERIOD_IN_DAYS)\n",
    "    if alive:\n",
    "        return 14 * num_daily_patiants\n",
    "\n",
    "    # + 1 as we have 0 value for the case when death reported on the same day\n",
    "    days = np.random.choice(REMAINING_DAYS) + 1\n",
    "    return days * num_daily_patiants\n",
    "\n",
    "print(sample_14data_delay(num_patients=6334*2, alive=False))\n",
    "print(sample_14data_delay(num_patients=6334*2, alive=True))\n",
    "print(f\"num_daily_patiants = {int(6334*2/ RANDOMIZATION_PERIOD_IN_DAYS)}\")"
   ]
  },
  {
   "cell_type": "code",
   "execution_count": 19,
   "id": "b056936d",
   "metadata": {
    "ExecuteTime": {
     "end_time": "2023-04-12T10:09:51.031751Z",
     "start_time": "2023-04-12T10:09:51.008780Z"
    }
   },
   "outputs": [],
   "source": [
    "class Environment(Protocol):\n",
    "    num_actions: int\n",
    "    means: np.ndarray\n",
    "    name: str\n",
    "\n",
    "    def draw(self, t: int, action: int) -> float:\n",
    "        ...\n",
    "\n",
    "class BetaBandit(Environment):\n",
    "    def __init__(self, alphas: np.ndarray, betas: np.ndarray, horizon: int):\n",
    "        self.name = \"Beta\"\n",
    "        self.alphas = alphas\n",
    "        self.betas = betas\n",
    "        self.num_actions = len(alphas)\n",
    "        self.means = [alphas[i] / (alphas[i] + betas[i]) for i in range(self.num_actions)]\n",
    "\n",
    "    def draw(self, t: int, action: int) -> float:\n",
    "        return np.random.beta(a=self.alphas[action], b=self.betas[action])\n",
    "\n",
    "class BernoulliBandit(Environment):\n",
    "    def __init__(self, means: np.ndarray, horizon: int):\n",
    "        self.name = \"Bernoulli\"\n",
    "        self.means = means\n",
    "        self.num_actions = len(means)\n",
    "\n",
    "    def draw(self, t: int, action: int) -> float:\n",
    "        return np.random.binomial(n=1, p=self.means[action])\n",
    "\n",
    "class Policy(Protocol):\n",
    "    actions_count: np.ndarray\n",
    "    name: str\n",
    "    \n",
    "    def select(self, t: int) -> int:\n",
    "        ...\n",
    "\n",
    "    def update(self, t: int, action: int, reward: float):\n",
    "        ...\n",
    "    \n",
    "class UCB(Policy):\n",
    "    def __init__(self, num_actions: int, horizon: int):\n",
    "        self.name = \"UCB\"\n",
    "        self.num_actions = num_actions\n",
    "        self.horizon = horizon\n",
    "        self.cumulative_rewards = np.zeros(num_actions, dtype=np.float32)\n",
    "        self.actions_count = np.zeros(num_actions, dtype=np.int32)\n",
    "\n",
    "    def select(self, t: int) -> int:\n",
    "        if t < self.num_actions:\n",
    "            return t\n",
    "\n",
    "        actions = np.arange(self.num_actions)\n",
    "        indexes = np.array([self.index(t=t, action=i) for i in actions])\n",
    "        idx = np.where(indexes == np.max(indexes))\n",
    "        best_actions = actions[idx]\n",
    "        return np.random.choice(best_actions)\n",
    "\n",
    "    def update(self, t: int, action: int, reward: float):\n",
    "        self.cumulative_rewards[action] += reward\n",
    "        self.actions_count[action] += 1\n",
    "        return\n",
    "\n",
    "    def index(self, t, action) -> float:\n",
    "        # p = 1/n^2, alpha = 1/4\n",
    "        mean = self.cumulative_rewards[action] / self.actions_count[action]\n",
    "        confidence_radius = math.sqrt(math.log(self.horizon**2) / (4 * self.actions_count[action]))\n",
    "        return mean + confidence_radius\n",
    "    \n",
    "class ThompsonSampling(Policy):\n",
    "    def __init__(self, num_actions: int, horizon: int):\n",
    "        self.name = \"ThompsonSampling\"\n",
    "        self.num_actions = num_actions\n",
    "        self.horizon = horizon\n",
    "        self.alpha_0 = 1.0\n",
    "        self.beta_0 = 1.0\n",
    "        self.alphas = np.zeros(num_actions, dtype=float)\n",
    "        self.betas = np.zeros(num_actions, dtype=float)\n",
    "        self.actions_count = np.zeros(num_actions, dtype=np.int32)\n",
    "\n",
    "    def select(self, t: int) -> int:\n",
    "        samples = np.zeros(self.num_actions, dtype=float)\n",
    "        for i in range(self.num_actions):\n",
    "            alpha = self.alphas[i] + self.alpha_0\n",
    "            beta = self.betas[i] + self.beta_0\n",
    "            samples[i] = np.random.beta(alpha, beta)\n",
    "        return int(np.argmax(samples))\n",
    "\n",
    "    def update(self, t: int, action: int, reward: float):\n",
    "        self.alphas[action] = self.alphas[action] + reward\n",
    "        self.betas[action] = self.betas[action] + (1.0 - reward)\n",
    "        self.actions_count[action] += 1\n",
    "\n",
    "class UniformRandom(Policy):\n",
    "    def __init__(self, num_actions: int):\n",
    "        self.name = \"UniformRandom\"\n",
    "        self.num_actions = num_actions\n",
    "        self.actions_count = np.zeros(num_actions, dtype=np.int32)\n",
    "\n",
    "    def select(self, t: int) -> int:\n",
    "        return np.random.choice(self.num_actions)\n",
    "\n",
    "    def update(self, t: int, action: int, reward: float):\n",
    "        self.actions_count[action] += 1\n",
    "        return"
   ]
  },
  {
   "cell_type": "code",
   "execution_count": 20,
   "id": "1c0d5d8a",
   "metadata": {
    "ExecuteTime": {
     "end_time": "2023-04-12T10:09:51.044698Z",
     "start_time": "2023-04-12T10:09:51.033830Z"
    }
   },
   "outputs": [],
   "source": [
    "class Experiment:\n",
    "    def __init__(self, horizon: int):    \n",
    "        # revealed rewards by environment not taking into account delays\n",
    "        self.rewards = np.zeros(horizon, dtype=np.float32)\n",
    "        # delay per time step\n",
    "        self.delays = np.zeros(horizon, dtype=np.int32)\n",
    "\n",
    "def run_experiment(horizon: int, environment: Environment, policy: Policy,\n",
    "                   sample_delay: Callable[[int, bool], int]):\n",
    "    experiment = Experiment(horizon=horizon)\n",
    "    num_actions = environment.num_actions\n",
    "    # FIFO queue per action with realized rewards\n",
    "    queues: List[queue.Queue] = [queue.Queue() for _ in range(num_actions)]\n",
    "    # delayed rewards to be realized at time step: Tuple[action, reward]\n",
    "    future_rewards: List[List[Tuple[int, float]]] = [[] for _ in range(horizon)]\n",
    "\n",
    "    # internal policy's time step to emulate sequential decision making with no delays\n",
    "    policy_t = 0\n",
    "    action = policy.select(policy_t)\n",
    "\n",
    "    for t in range(horizon):\n",
    "        while not queues[action].empty():\n",
    "            reward = queues[action].get()\n",
    "            policy.update(t=policy_t, action=action, reward=reward)\n",
    "            policy_t += 1\n",
    "            action = policy.select(policy_t)\n",
    "\n",
    "        reward = environment.draw(t=t, action=action)\n",
    "        experiment.rewards[t] = reward\n",
    "\n",
    "        experiment.delays[t] = sample_delay(num_patients=horizon, alive=bool(reward))\n",
    "        if t + experiment.delays[t] < horizon:\n",
    "            future_rewards[t + experiment.delays[t]].append((action, reward))\n",
    "\n",
    "        # realize rewards for the current time step if any\n",
    "        for a, r in future_rewards[t]:\n",
    "            queues[a].put(r)\n",
    "\n",
    "        # trigger update again for the case of no delay on this time step\n",
    "        while not queues[action].empty():\n",
    "            reward = queues[action].get()\n",
    "            policy.update(t=policy_t, action=action, reward=reward)\n",
    "            policy_t += 1\n",
    "            action = policy.select(policy_t)\n",
    "\n",
    "    return experiment"
   ]
  },
  {
   "cell_type": "code",
   "execution_count": 21,
   "id": "f6db9004",
   "metadata": {
    "ExecuteTime": {
     "end_time": "2023-04-12T11:26:29.092140Z",
     "start_time": "2023-04-12T10:09:51.048040Z"
    }
   },
   "outputs": [
    {
     "name": "stdout",
     "output_type": "stream",
     "text": [
      "optimal means: [0.8815914114303758, 0.8815914114303758, 0.8815914114303758, 0.8815914114303758]\n",
      "1999\r"
     ]
    },
    {
     "data": {
      "text/html": [
       "<div>\n",
       "<style scoped>\n",
       "    .dataframe tbody tr th:only-of-type {\n",
       "        vertical-align: middle;\n",
       "    }\n",
       "\n",
       "    .dataframe tbody tr th {\n",
       "        vertical-align: top;\n",
       "    }\n",
       "\n",
       "    .dataframe thead th {\n",
       "        text-align: right;\n",
       "    }\n",
       "</style>\n",
       "<table border=\"1\" class=\"dataframe\">\n",
       "  <thead>\n",
       "    <tr style=\"text-align: right;\">\n",
       "      <th></th>\n",
       "      <th>name</th>\n",
       "      <th>regret (mean)</th>\n",
       "      <th>std</th>\n",
       "      <th>min</th>\n",
       "      <th>max</th>\n",
       "      <th>delay (mean)</th>\n",
       "    </tr>\n",
       "  </thead>\n",
       "  <tbody>\n",
       "    <tr>\n",
       "      <th>0</th>\n",
       "      <td>Beta - UCB</td>\n",
       "      <td>48.517677</td>\n",
       "      <td>0.495571</td>\n",
       "      <td>46.97168</td>\n",
       "      <td>50.060547</td>\n",
       "      <td>0.000000</td>\n",
       "    </tr>\n",
       "    <tr>\n",
       "      <th>1</th>\n",
       "      <td>Bernoulli - Uniform Random</td>\n",
       "      <td>85.459999</td>\n",
       "      <td>36.365772</td>\n",
       "      <td>-22.00000</td>\n",
       "      <td>215.000000</td>\n",
       "      <td>0.000000</td>\n",
       "    </tr>\n",
       "    <tr>\n",
       "      <th>2</th>\n",
       "      <td>Bernoulli - ThompsonSampling</td>\n",
       "      <td>31.055000</td>\n",
       "      <td>48.871395</td>\n",
       "      <td>-114.00000</td>\n",
       "      <td>280.000000</td>\n",
       "      <td>0.000000</td>\n",
       "    </tr>\n",
       "    <tr>\n",
       "      <th>3</th>\n",
       "      <td>Bernoulli - ThompsonSampling [with delays]</td>\n",
       "      <td>74.071999</td>\n",
       "      <td>90.893860</td>\n",
       "      <td>-126.00000</td>\n",
       "      <td>280.000000</td>\n",
       "      <td>149.923126</td>\n",
       "    </tr>\n",
       "  </tbody>\n",
       "</table>\n",
       "</div>"
      ],
      "text/plain": [
       "                                         name  regret (mean)        std  \\\n",
       "0                                  Beta - UCB      48.517677   0.495571   \n",
       "1                  Bernoulli - Uniform Random      85.459999  36.365772   \n",
       "2                Bernoulli - ThompsonSampling      31.055000  48.871395   \n",
       "3  Bernoulli - ThompsonSampling [with delays]      74.071999  90.893860   \n",
       "\n",
       "         min         max  delay (mean)  \n",
       "0   46.97168   50.060547      0.000000  \n",
       "1  -22.00000  215.000000      0.000000  \n",
       "2 -114.00000  280.000000      0.000000  \n",
       "3 -126.00000  280.000000    149.923126  "
      ]
     },
     "execution_count": 21,
     "metadata": {},
     "output_type": "execute_result"
    }
   ],
   "source": [
    "# control: (6334, 5498, 0.8680138932743922)\n",
    "# aspirin: (6334, 5584, 0.8815914114303758)\n",
    "\n",
    "num_experiments = 2000\n",
    "horizon = 6334*2\n",
    "num_actions = 2\n",
    "\n",
    "true_means = [0.8680138932743922, 0.8815914114303758]\n",
    "beta_alphas = np.array([5498, 5584])\n",
    "beta_betas = np.array([6334 - alpha for alpha in beta_alphas])\n",
    "\n",
    "def build_policies():\n",
    "    return [\n",
    "        UCB(num_actions=num_actions, horizon=horizon),\n",
    "        UniformRandom(num_actions=num_actions),\n",
    "        ThompsonSampling(num_actions=num_actions, horizon=horizon),\n",
    "        ThompsonSampling(num_actions=num_actions, horizon=horizon),\n",
    "    ]\n",
    "def build_envs():\n",
    "    return [\n",
    "        BetaBandit(alphas=beta_alphas, betas=beta_betas, horizon=horizon),\n",
    "        BernoulliBandit(means=true_means, horizon=horizon),\n",
    "        BernoulliBandit(means=true_means, horizon=horizon),\n",
    "        BernoulliBandit(means=true_means, horizon=horizon)\n",
    "    ]\n",
    "num_policies = len(build_policies())\n",
    "assert num_policies == len(build_envs())\n",
    "\n",
    "names = [\n",
    "    \"Beta - UCB\",\n",
    "    \"Bernoulli - Uniform Random\",\n",
    "    \"Bernoulli - ThompsonSampling\",\n",
    "    \"Bernoulli - ThompsonSampling [with delays]\"\n",
    "]\n",
    "assert num_policies == len(names)\n",
    "\n",
    "optimal_means = [np.max(build_envs()[j].means) for j in range(num_policies)]\n",
    "print(f\"optimal means: {optimal_means}\")\n",
    "\n",
    "rewards = np.full((num_experiments, num_policies, horizon), fill_value=-1, dtype=np.float32)\n",
    "delays = np.zeros((num_experiments, num_policies, horizon), dtype=np.int32)\n",
    "actions_count = np.zeros((num_experiments, num_policies, num_actions), dtype=np.int32)\n",
    "\n",
    "for exp_id in range(num_experiments):    \n",
    "    envs = build_envs()\n",
    "    policies = build_policies()\n",
    "\n",
    "    delay_sampler = [None] * num_policies\n",
    "    for j in range(num_policies):\n",
    "        if \"[with delays]\" in names[j]:\n",
    "            delay_sampler[j] = sample_14data_delay\n",
    "        else:\n",
    "            delay_sampler[j] = lambda num_patients, alive : 0\n",
    "\n",
    "    runs = [\n",
    "        run_experiment(horizon=horizon, environment=envs[j], policy=policies[j], sample_delay=delay_sampler[j])\n",
    "        for j in range(num_policies)\n",
    "    ]\n",
    "\n",
    "    for j in range(num_policies):\n",
    "        rewards[exp_id, j] = runs[j].rewards\n",
    "        actions_count[exp_id, j] = policies[j].actions_count\n",
    "        delays[exp_id, j] = runs[j].delays\n",
    "    print(f\"{exp_id}\", end='\\r')\n",
    "\n",
    "total_regrets = np.zeros((num_experiments, num_policies), dtype=np.float32)\n",
    "for exp_id in range(num_experiments):\n",
    "    for j in range(num_policies):\n",
    "        total_regrets[exp_id, j] = horizon * optimal_means[j] - np.sum(rewards[exp_id, j, :])\n",
    "\n",
    "avg_delay = np.zeros((num_experiments, num_policies), dtype=np.float32)\n",
    "for exp_id in range(num_experiments):\n",
    "    for j in range(num_policies):\n",
    "        avg_delay[exp_id, j] = np.mean(delays[exp_id, j, :])\n",
    "        \n",
    "output = defaultdict(list)\n",
    "for j in range(num_policies):\n",
    "    output[\"name\"].append(names[j])\n",
    "    output[\"regret (mean)\"].append(np.mean(total_regrets[:, j]))\n",
    "    output[\"std\"].append(np.std(total_regrets[:, j]))\n",
    "    output[\"min\"].append(np.min(total_regrets[:, j]))\n",
    "    output[\"max\"].append(np.max(total_regrets[:, j]))\n",
    "    output[\"delay (mean)\"].append(np.mean(avg_delay[:, j]))\n",
    "pd.DataFrame(data=output)"
   ]
  },
  {
   "cell_type": "code",
   "execution_count": 24,
   "id": "d26e0de5",
   "metadata": {
    "ExecuteTime": {
     "end_time": "2023-04-12T11:26:29.124694Z",
     "start_time": "2023-04-12T11:26:29.119409Z"
    }
   },
   "outputs": [],
   "source": [
    "def draw_acc_regret():\n",
    "    regrets = np.zeros((num_policies, num_experiments, horizon), dtype=np.float32)\n",
    "\n",
    "    for exp_id in range(num_experiments):\n",
    "        for j in range(num_policies):\n",
    "            regrets[j, exp_id] = np.full(horizon, fill_value=optimal_means[j], dtype=np.float32) - rewards[exp_id, j]\n",
    "            for t in range(1, horizon):\n",
    "                regrets[j, exp_id, t] += regrets[j, exp_id][t-1]\n",
    "        print(f\"{exp_id}\", end='\\r')\n",
    "\n",
    "    for j in range(num_policies):\n",
    "        _regrets = np.mean(regrets[j], axis=0)\n",
    "        plt.plot(range(0, horizon), _regrets, label=f\"{names[j]}\")\n",
    "    plt.legend()\n",
    "    plt.show()"
   ]
  },
  {
   "cell_type": "code",
   "execution_count": 25,
   "id": "636b37f5",
   "metadata": {
    "ExecuteTime": {
     "end_time": "2023-04-12T11:27:24.380928Z",
     "start_time": "2023-04-12T11:26:29.130301Z"
    }
   },
   "outputs": [
    {
     "name": "stdout",
     "output_type": "stream",
     "text": [
      "1999\r"
     ]
    },
    {
     "data": {
      "image/png": "[encoded data removed]",
      "text/plain": [
       "<Figure size 640x480 with 1 Axes>"
      ]
     },
     "metadata": {},
     "output_type": "display_data"
    }
   ],
   "source": [
    "draw_acc_regret()"
   ]
  }
 ],
 "metadata": {
  "hide_input": false,
  "kernelspec": {
   "display_name": "Python 3 (ipykernel)",
   "language": "python",
   "name": "python3"
  },
  "language_info": {
   "codemirror_mode": {
    "name": "ipython",
    "version": 3
   },
   "file_extension": ".py",
   "mimetype": "text/x-python",
   "name": "python",
   "nbconvert_exporter": "python",
   "pygments_lexer": "ipython3",
   "version": "3.8.15"
  }
 },
 "nbformat": 4,
 "nbformat_minor": 5
}
